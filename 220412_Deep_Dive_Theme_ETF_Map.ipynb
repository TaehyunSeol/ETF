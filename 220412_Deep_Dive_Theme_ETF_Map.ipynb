{
  "nbformat": 4,
  "nbformat_minor": 0,
  "metadata": {
    "colab": {
      "name": "220412_Deep_Dive_Theme_ETF_Map",
      "private_outputs": true,
      "provenance": [],
      "collapsed_sections": []
    },
    "kernelspec": {
      "name": "python3",
      "display_name": "Python 3"
    },
    "language_info": {
      "name": "python"
    }
  },
  "cells": [
    {
      "cell_type": "code",
      "metadata": {
        "id": "_dEbEwbY8lL_"
      },
      "source": [
        "import pandas as pd\n",
        "import seaborn as sns\n",
        "import matplotlib.pyplot as plt\n",
        "\n",
        "df = pd.read_csv('https://raw.githubusercontent.com/TaehyunSeol/Theme_ETF/main/211202_Theme_Map.csv')\n",
        "df = df[df['LTG_M']>0]\n",
        "df.style"
      ],
      "execution_count": null,
      "outputs": []
    },
    {
      "cell_type": "code",
      "metadata": {
        "id": "Q_Cda0K2m0oq"
      },
      "source": [
        "sns.set_theme(style=\"whitegrid\")\n",
        "sns.light_palette(\"seagreen\", as_cmap=True)\n",
        "sns.set_context('talk')\n",
        "\n",
        "\n",
        "# 기준 설정\n",
        "f, ax = plt.subplots(figsize=(15, 10)) # 그림 크기\n",
        "sns.despine(f, left=True, bottom=True) # 그림 끝에 선 표현 여부\n",
        "Direction_ranking = [\">20\", \">15\", \">10\", \">5\", \">0\",\"<0\"] # Hue 정렬\n",
        "\n",
        "# ETF 시각화\n",
        "sns.scatterplot(x=\"Stage\", y=\"LTG_W\",\n",
        "                hue=\"LTG_W-HG\", size=\"Adoption\",\n",
        "                palette=\"Spectral\",\n",
        "                hue_order=Direction_ranking,\n",
        "                sizes=(50, 400), linewidth=0,\n",
        "                data=df, ax=ax)\n",
        "\n",
        "# 범례표시 설정\n",
        "plt.legend(loc='upper right', bbox_to_anchor=(1.2, 1), fontsize=15)\n",
        "\n",
        "# ETF 데이터 레이블 표시\n",
        "for i in range(df.shape[0]):\n",
        "    if df['Derection'][i]>5:\n",
        "        plt.text(x=df.Stage[i]+0.3,y=df.LTG_W[i]+0.3,s=df.Ticker[i], \n",
        "        fontdict=dict(color='white',size=15),\n",
        "        bbox=dict(facecolor='green',alpha=0.8))\n",
        "    else:\n",
        "        plt.text(x=df.Stage[i]+0.3,y=df.LTG_W[i]+0.3,s=df.Ticker[i], \n",
        "        fontdict=dict(color='white',size=10),\n",
        "        bbox=dict(facecolor='green',alpha=0.4))"
      ],
      "execution_count": null,
      "outputs": []
    },
    {
      "cell_type": "code",
      "source": [
        ""
      ],
      "metadata": {
        "id": "Lqo0IolXQDnV"
      },
      "execution_count": null,
      "outputs": []
    }
  ]
}